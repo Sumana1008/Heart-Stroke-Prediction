{
  "nbformat": 4,
  "nbformat_minor": 0,
  "metadata": {
    "colab": {
      "name": "IML_MINIPROJ",
      "provenance": [],
      "authorship_tag": "ABX9TyP40ZAsdaQ6p8yz3TccO1Xz",
      "include_colab_link": true
    },
    "kernelspec": {
      "display_name": "Python 3",
      "name": "python3"
    },
    "language_info": {
      "name": "python"
    }
  },
  "cells": [
    {
      "cell_type": "markdown",
      "metadata": {
        "id": "view-in-github",
        "colab_type": "text"
      },
      "source": [
        "<a href=\"https://colab.research.google.com/github/Sumana1008/Heart-Stroke-Prediction/blob/main/IML_MINIPROJ.ipynb\" target=\"_parent\"><img src=\"https://colab.research.google.com/assets/colab-badge.svg\" alt=\"Open In Colab\"/></a>"
      ]
    },
    {
      "cell_type": "markdown",
      "metadata": {
        "id": "vfWs4pHvEUhY"
      },
      "source": [
        ""
      ]
    },
    {
      "cell_type": "markdown",
      "metadata": {
        "id": "tB5QCT2UEaAl"
      },
      "source": [
        ""
      ]
    },
    {
      "cell_type": "code",
      "metadata": {
        "colab": {
          "base_uri": "https://localhost:8080/"
        },
        "id": "jGJ83Bp8Cg96",
        "outputId": "104d8d55-1da7-44e9-9681-5bd6cce92a58"
      },
      "source": [
        "from google.colab import drive\n",
        "drive.mount('/content/gdrive', force_remount=True)"
      ],
      "execution_count": null,
      "outputs": [
        {
          "output_type": "stream",
          "name": "stdout",
          "text": [
            "Mounted at /content/gdrive\n"
          ]
        }
      ]
    },
    {
      "cell_type": "code",
      "metadata": {
        "colab": {
          "base_uri": "https://localhost:8080/"
        },
        "id": "3a9sgFw_Cyii",
        "outputId": "2c138ffc-a24b-42e3-c50d-fae5c7b67851"
      },
      "source": [
        "import pandas as pd\n",
        "\n",
        "#Loading the Data into the Google Colab \n",
        "\n",
        "data_1=pd.read_csv(\"/content/gdrive/My Drive/Colab Notebooks/MLLAB/healthcare-dataset-stroke-data.csv\");\n",
        "#Printing the Data \n",
        "print(data_1)"
      ],
      "execution_count": null,
      "outputs": [
        {
          "output_type": "stream",
          "name": "stdout",
          "text": [
            "         id  gender   age  ...   bmi   smoking_status stroke\n",
            "0      9046    Male  67.0  ...  36.6  formerly smoked      1\n",
            "1     51676  Female  61.0  ...   NaN     never smoked      1\n",
            "2     31112    Male  80.0  ...  32.5     never smoked      1\n",
            "3     60182  Female  49.0  ...  34.4           smokes      1\n",
            "4      1665  Female  79.0  ...  24.0     never smoked      1\n",
            "...     ...     ...   ...  ...   ...              ...    ...\n",
            "5105  18234  Female  80.0  ...   NaN     never smoked      0\n",
            "5106  44873  Female  81.0  ...  40.0     never smoked      0\n",
            "5107  19723  Female  35.0  ...  30.6     never smoked      0\n",
            "5108  37544    Male  51.0  ...  25.6  formerly smoked      0\n",
            "5109  44679  Female  44.0  ...  26.2          Unknown      0\n",
            "\n",
            "[5110 rows x 12 columns]\n"
          ]
        }
      ]
    },
    {
      "cell_type": "code",
      "metadata": {
        "colab": {
          "base_uri": "https://localhost:8080/"
        },
        "id": "m4Q_VzXUDOIS",
        "outputId": "435d4638-b076-4f56-9d17-9c7235b56454"
      },
      "source": [
        "#To know about number of Rows and Columns \n",
        "print(data_1.shape)\n",
        "\n",
        "#To Know about the Columns \n",
        "\n",
        "print(data_1.columns)\n",
        "\n",
        "#To Know to about Data types in the Columns  \n",
        "\n",
        "print(data_1.info())"
      ],
      "execution_count": null,
      "outputs": [
        {
          "output_type": "stream",
          "name": "stdout",
          "text": [
            "(5110, 12)\n",
            "Index(['id', 'gender', 'age', 'hypertension', 'heart_disease', 'ever_married',\n",
            "       'work_type', 'Residence_type', 'avg_glucose_level', 'bmi',\n",
            "       'smoking_status', 'stroke'],\n",
            "      dtype='object')\n",
            "<class 'pandas.core.frame.DataFrame'>\n",
            "RangeIndex: 5110 entries, 0 to 5109\n",
            "Data columns (total 12 columns):\n",
            " #   Column             Non-Null Count  Dtype  \n",
            "---  ------             --------------  -----  \n",
            " 0   id                 5110 non-null   int64  \n",
            " 1   gender             5110 non-null   object \n",
            " 2   age                5110 non-null   float64\n",
            " 3   hypertension       5110 non-null   int64  \n",
            " 4   heart_disease      5110 non-null   int64  \n",
            " 5   ever_married       5110 non-null   object \n",
            " 6   work_type          5110 non-null   object \n",
            " 7   Residence_type     5110 non-null   object \n",
            " 8   avg_glucose_level  5110 non-null   float64\n",
            " 9   bmi                4909 non-null   float64\n",
            " 10  smoking_status     5110 non-null   object \n",
            " 11  stroke             5110 non-null   int64  \n",
            "dtypes: float64(3), int64(4), object(5)\n",
            "memory usage: 479.2+ KB\n",
            "None\n"
          ]
        }
      ]
    },
    {
      "cell_type": "code",
      "metadata": {
        "colab": {
          "base_uri": "https://localhost:8080/",
          "height": 1000
        },
        "id": "O2Sfw-JMDbL0",
        "outputId": "499a2a9e-bc17-4a8e-a3e2-cc52c9c6f6e6"
      },
      "source": [
        "#Graphs based on the Columns \n",
        "\n",
        "import pandas as pd\n",
        "import seaborn as sns\n",
        "import matplotlib.pyplot as plt\n",
        "\n",
        "# To Check count of Male and Female and other\n",
        "sns.countplot(x='gender',data=data_1)\n",
        "plt.show()\n",
        "#To Check the count of Heart Disease in the Data Set \n",
        "\n",
        "sns.countplot(x=\"heart_disease\",data=data_1)\n",
        "plt.show()\n",
        "\n",
        "#To Check number of strokes\n",
        "\n",
        "sns.countplot(x=\"stroke\",data=data_1)\n",
        "plt.show() \n",
        "\n",
        "sns.catplot(x=\"stroke\",y=\"age\",jitter=False,data=data_1)"
      ],
      "execution_count": null,
      "outputs": [
        {
          "output_type": "display_data",
          "data": {
            "image/png": "[encoded data removed]",
            "text/plain": [
              "<Figure size 432x288 with 1 Axes>"
            ]
          },
          "metadata": {
            "needs_background": "light"
          }
        },
        {
          "output_type": "display_data",
          "data": {
            "image/png": "[encoded data removed]",
            "text/plain": [
              "<Figure size 432x288 with 1 Axes>"
            ]
          },
          "metadata": {
            "needs_background": "light"
          }
        },
        {
          "output_type": "display_data",
          "data": {
            "image/png": "[encoded data removed]",
            "text/plain": [
              "<Figure size 432x288 with 1 Axes>"
            ]
          },
          "metadata": {
            "needs_background": "light"
          }
        },
        {
          "output_type": "execute_result",
          "data": {
            "text/plain": [
              "<seaborn.axisgrid.FacetGrid at 0x7f18c365d350>"
            ]
          },
          "metadata": {},
          "execution_count": 19
        },
        {
          "output_type": "display_data",
          "data": {
            "image/png": "[encoded data removed]",
            "text/plain": [
              "<Figure size 360x360 with 1 Axes>"
            ]
          },
          "metadata": {
            "needs_background": "light"
          }
        }
      ]
    },
    {
      "cell_type": "code",
      "metadata": {
        "colab": {
          "base_uri": "https://localhost:8080/",
          "height": 309
        },
        "id": "ML_gtXgcDd_L",
        "outputId": "d862f124-9c15-4cdc-8031-efaecdc65bc1"
      },
      "source": [
        "data_1.head()\n",
        "\n",
        "#Converting the String values to numeric value because the Algorithms can give better prediction than String Value \n",
        "\n",
        "#The String Columns that are avaliable are Gender Column, Ever_Married Column, work_type Column,Residence_type Column, Somking_Status Colmun\n",
        "\n",
        "print(data_1[\"gender\"].unique())\n",
        "\n",
        "data_1[\"gender\"]=data_1[\"gender\"].replace([\"Male\",\"Female\",\"Other\"],[1,2,3])\n",
        "\n",
        "print(data_1[\"ever_married\"].unique())\n",
        "\n",
        "data_1[\"ever_married\"]=data_1[\"ever_married\"].replace([\"Yes\",\"No\"],[1,2])\n",
        "\n",
        "\n",
        "print(data_1[\"work_type\"].unique())\n",
        "\n",
        "data_1[\"work_type\"]=data_1[\"work_type\"].replace([\"Private\",\"Self-employed\",\"Govt_job\",\"children\",\"Never_worked\"],[1,2,3,4,5])\n",
        "\n",
        "print(data_1[\"Residence_type\"].unique())\n",
        "\n",
        "data_1[\"Residence_type\"]=data_1[\"Residence_type\"].replace([\"Urban\",\"Rural\"],[1,2])\n",
        "\n",
        "print(data_1[\"smoking_status\"].unique())\n",
        "\n",
        "data_1[\"smoking_status\"]=data_1[\"smoking_status\"].replace([\"formerly smoked\",\"never smoked\",\"smokes\",\"Unknown\"],[1,2,3,4])\n",
        "\n",
        "#After replacing String values with numeric values \n",
        "\n",
        "data_1.head()"
      ],
      "execution_count": null,
      "outputs": [
        {
          "output_type": "stream",
          "name": "stdout",
          "text": [
            "['Male' 'Female' 'Other']\n",
            "['Yes' 'No']\n",
            "['Private' 'Self-employed' 'Govt_job' 'children' 'Never_worked']\n",
            "['Urban' 'Rural']\n",
            "['formerly smoked' 'never smoked' 'smokes' 'Unknown']\n"
          ]
        },
        {
          "output_type": "execute_result",
          "data": {
            "text/html": [
              "<div>\n",
              "<style scoped>\n",
              "    .dataframe tbody tr th:only-of-type {\n",
              "        vertical-align: middle;\n",
              "    }\n",
              "\n",
              "    .dataframe tbody tr th {\n",
              "        vertical-align: top;\n",
              "    }\n",
              "\n",
              "    .dataframe thead th {\n",
              "        text-align: right;\n",
              "    }\n",
              "</style>\n",
              "<table border=\"1\" class=\"dataframe\">\n",
              "  <thead>\n",
              "    <tr style=\"text-align: right;\">\n",
              "      <th></th>\n",
              "      <th>id</th>\n",
              "      <th>gender</th>\n",
              "      <th>age</th>\n",
              "      <th>hypertension</th>\n",
              "      <th>heart_disease</th>\n",
              "      <th>ever_married</th>\n",
              "      <th>work_type</th>\n",
              "      <th>Residence_type</th>\n",
              "      <th>avg_glucose_level</th>\n",
              "      <th>bmi</th>\n",
              "      <th>smoking_status</th>\n",
              "      <th>stroke</th>\n",
              "    </tr>\n",
              "  </thead>\n",
              "  <tbody>\n",
              "    <tr>\n",
              "      <th>0</th>\n",
              "      <td>9046</td>\n",
              "      <td>1</td>\n",
              "      <td>67.0</td>\n",
              "      <td>0</td>\n",
              "      <td>1</td>\n",
              "      <td>1</td>\n",
              "      <td>1</td>\n",
              "      <td>1</td>\n",
              "      <td>228.69</td>\n",
              "      <td>36.6</td>\n",
              "      <td>1</td>\n",
              "      <td>1</td>\n",
              "    </tr>\n",
              "    <tr>\n",
              "      <th>1</th>\n",
              "      <td>51676</td>\n",
              "      <td>2</td>\n",
              "      <td>61.0</td>\n",
              "      <td>0</td>\n",
              "      <td>0</td>\n",
              "      <td>1</td>\n",
              "      <td>2</td>\n",
              "      <td>2</td>\n",
              "      <td>202.21</td>\n",
              "      <td>NaN</td>\n",
              "      <td>2</td>\n",
              "      <td>1</td>\n",
              "    </tr>\n",
              "    <tr>\n",
              "      <th>2</th>\n",
              "      <td>31112</td>\n",
              "      <td>1</td>\n",
              "      <td>80.0</td>\n",
              "      <td>0</td>\n",
              "      <td>1</td>\n",
              "      <td>1</td>\n",
              "      <td>1</td>\n",
              "      <td>2</td>\n",
              "      <td>105.92</td>\n",
              "      <td>32.5</td>\n",
              "      <td>2</td>\n",
              "      <td>1</td>\n",
              "    </tr>\n",
              "    <tr>\n",
              "      <th>3</th>\n",
              "      <td>60182</td>\n",
              "      <td>2</td>\n",
              "      <td>49.0</td>\n",
              "      <td>0</td>\n",
              "      <td>0</td>\n",
              "      <td>1</td>\n",
              "      <td>1</td>\n",
              "      <td>1</td>\n",
              "      <td>171.23</td>\n",
              "      <td>34.4</td>\n",
              "      <td>3</td>\n",
              "      <td>1</td>\n",
              "    </tr>\n",
              "    <tr>\n",
              "      <th>4</th>\n",
              "      <td>1665</td>\n",
              "      <td>2</td>\n",
              "      <td>79.0</td>\n",
              "      <td>1</td>\n",
              "      <td>0</td>\n",
              "      <td>1</td>\n",
              "      <td>2</td>\n",
              "      <td>2</td>\n",
              "      <td>174.12</td>\n",
              "      <td>24.0</td>\n",
              "      <td>2</td>\n",
              "      <td>1</td>\n",
              "    </tr>\n",
              "  </tbody>\n",
              "</table>\n",
              "</div>"
            ],
            "text/plain": [
              "      id  gender   age  ...   bmi  smoking_status  stroke\n",
              "0   9046       1  67.0  ...  36.6               1       1\n",
              "1  51676       2  61.0  ...   NaN               2       1\n",
              "2  31112       1  80.0  ...  32.5               2       1\n",
              "3  60182       2  49.0  ...  34.4               3       1\n",
              "4   1665       2  79.0  ...  24.0               2       1\n",
              "\n",
              "[5 rows x 12 columns]"
            ]
          },
          "metadata": {},
          "execution_count": 20
        }
      ]
    },
    {
      "cell_type": "code",
      "metadata": {
        "id": "SRgyNREHDmxN",
        "colab": {
          "base_uri": "https://localhost:8080/"
        },
        "outputId": "0a582143-6fd1-4138-8769-b2e6ba55fc7d"
      },
      "source": [
        "#Applying Decision Tree\n",
        "\n",
        "from sklearn.tree import DecisionTreeClassifier\n",
        "from sklearn import metrics\n",
        "import numpy as np\n",
        "from sklearn.metrics import roc_auc_score\n",
        "from sklearn.metrics import average_precision_score\n",
        "from sklearn.metrics import classification_report,confusion_matrix\n",
        "def func1(X_train,X_test,y_train,y_test):\n",
        "      clf=DecisionTreeClassifier()\n",
        "      clf=clf.fit(X_train,y_train)\n",
        "      y_pre_1=clf.predict(X_test)\n",
        "      print(\"Decision Tree Algorithm \")\n",
        "      print(\"Accuracy :\",metrics.accuracy_score(y_test,y_pre_1))\n",
        "      rmse=np.sqrt(mean_squared_error(y_test,y_pre_1))\n",
        "      print(\"RMSE Value :%f\"%(rmse))\n",
        "      print(\"Confusion Matrix :\",confusion_matrix(y_test,y_pre_1))\n",
        "      print(\"ROC And AUC :\",roc_auc_score(y_test,y_pre_1))\n",
        "      print(\"Precision Score :\",average_precision_score(y_test,y_pre_1))\n",
        "      \n",
        "      X_train,X_test,y_train,y_test=train_test_split(X,y,test_size=0.30)\n",
        "\n",
        "data_2_pre[\"work_type\"].unique()\n",
        "func1(X_train,X_test,y_train,y_test)\n",
        "\n",
        "      "
      ],
      "execution_count": null,
      "outputs": [
        {
          "output_type": "stream",
          "name": "stdout",
          "text": [
            "Decision Tree Algorithm \n",
            "Accuracy : 0.7916666666666666\n",
            "RMSE Value :0.456435\n",
            "Confusion Matrix : [[112  20]\n",
            " [ 10   2]]\n",
            "ROC And AUC : 0.5075757575757576\n",
            "Precision Score : 0.0845959595959596\n"
          ]
        }
      ]
    },
    {
      "cell_type": "code",
      "metadata": {
        "id": "StRXpFwZDr2Y",
        "colab": {
          "base_uri": "https://localhost:8080/"
        },
        "outputId": "9b322841-c9be-42de-cb0b-6b485c4835e2"
      },
      "source": [
        "#Applying Random Forest\n",
        "\n",
        "from sklearn.ensemble import RandomForestClassifier\n",
        "from sklearn import metrics\n",
        "from sklearn.metrics import classification_report,confusion_matrix\n",
        "import numpy as np\n",
        "from sklearn.metrics import average_precision_score\n",
        "from sklearn.metrics import roc_auc_score\n",
        "\n",
        "def func2(X_train,X_test,y_train,y_test):\n",
        "        clf=RandomForestClassifier(n_estimators=1000)\n",
        "        clf.fit(X_train,y_train)\n",
        "        y_pre_2=clf.predict(X_test)\n",
        "        print(\"RandomForest Algorithm \")\n",
        "        print(\"Accuracy :\",metrics.accuracy_score(y_test,y_pre_2))\n",
        "        rmse=np.sqrt(mean_squared_error(y_test,y_pre_2))\n",
        "        print(\"RMSE Value :%f\"%(rmse))\n",
        "        \n",
        "        print(\"Confusion Matrix :\",confusion_matrix(y_test,y_pre_2))\n",
        "        print(\"ROC And AUC :\",roc_auc_score(y_test,y_pre_2))\n",
        "        print(\"Precision Score:\",average_precision_score(y_test,y_pre_2))\n",
        "        X_train,X_test,y_train,y_test=train_test_split(X,y,test_size=0.30)\n",
        "\n",
        "data_2_pre[\"work_type\"].unique()\n",
        "func2(X_train,X_test,y_train,y_test)\n",
        "        \n",
        "        "
      ],
      "execution_count": null,
      "outputs": [
        {
          "output_type": "stream",
          "name": "stdout",
          "text": [
            "RandomForest Algorithm \n",
            "Accuracy : 0.9166666666666666\n",
            "RMSE Value :0.288675\n",
            "Confusion Matrix : [[132   0]\n",
            " [ 12   0]]\n",
            "ROC And AUC : 0.5\n",
            "Precision Score: 0.08333333333333333\n"
          ]
        }
      ]
    },
    {
      "cell_type": "code",
      "metadata": {
        "id": "aF_f3cajJmmV",
        "colab": {
          "base_uri": "https://localhost:8080/"
        },
        "outputId": "4a80976d-8d78-4aa1-9230-81032bcc27b8"
      },
      "source": [
        "#Applying KNN Algorithm\n",
        "\n",
        "from sklearn.neighbors import KNeighborsClassifier\n",
        "from sklearn.metrics import mean_squared_error\n",
        "from sklearn import metrics\n",
        "from sklearn.metrics import classification_report,confusion_matrix\n",
        "\n",
        "def func3(X_train,X_test,y_train,y_test):\n",
        "       classifier=KNeighborsClassifier(n_neighbors=335)\n",
        "       classifier.fit(X_train,y_train)\n",
        "       y_pre_2=classifier.predict(X_test)\n",
        "       print(\"KNN Algorithm \")\n",
        "       print(\"Accuracy :\",classification_report(y_test,y_pre_2))\n",
        "       rmse=np.sqrt(mean_squared_error(y_test,y_pre_2))\n",
        "       print(\"RMSE Value :%f\"%(rmse))\n",
        "       print(\"Accuracy in percent :\",metrics.accuracy_score(y_test,y_pre_2))\n",
        "       print(\"Confusion Matrix \",confusion_matrix(y_test,y_pre_2))\n",
        "       X_train,X_test,y_train,y_test=train_test_split(X,y,test_size=0.30)\n",
        "\n",
        "data_2_pre[\"work_type\"].unique()\n",
        "func3(X_train,X_test,y_train,y_test)\n",
        "      "
      ],
      "execution_count": null,
      "outputs": [
        {
          "output_type": "stream",
          "name": "stdout",
          "text": [
            "KNN Algorithm \n",
            "Accuracy :               precision    recall  f1-score   support\n",
            "\n",
            "           0       0.92      1.00      0.96       132\n",
            "           1       0.00      0.00      0.00        12\n",
            "\n",
            "    accuracy                           0.92       144\n",
            "   macro avg       0.46      0.50      0.48       144\n",
            "weighted avg       0.84      0.92      0.88       144\n",
            "\n",
            "RMSE Value :0.288675\n",
            "Accuracy in percent : 0.9166666666666666\n",
            "Confusion Matrix  [[132   0]\n",
            " [ 12   0]]\n"
          ]
        },
        {
          "output_type": "stream",
          "name": "stderr",
          "text": [
            "/usr/local/lib/python3.7/dist-packages/sklearn/metrics/_classification.py:1308: UndefinedMetricWarning: Precision and F-score are ill-defined and being set to 0.0 in labels with no predicted samples. Use `zero_division` parameter to control this behavior.\n",
            "  _warn_prf(average, modifier, msg_start, len(result))\n",
            "/usr/local/lib/python3.7/dist-packages/sklearn/metrics/_classification.py:1308: UndefinedMetricWarning: Precision and F-score are ill-defined and being set to 0.0 in labels with no predicted samples. Use `zero_division` parameter to control this behavior.\n",
            "  _warn_prf(average, modifier, msg_start, len(result))\n",
            "/usr/local/lib/python3.7/dist-packages/sklearn/metrics/_classification.py:1308: UndefinedMetricWarning: Precision and F-score are ill-defined and being set to 0.0 in labels with no predicted samples. Use `zero_division` parameter to control this behavior.\n",
            "  _warn_prf(average, modifier, msg_start, len(result))\n"
          ]
        }
      ]
    },
    {
      "cell_type": "code",
      "metadata": {
        "id": "6mKS6fsfD6U_",
        "colab": {
          "base_uri": "https://localhost:8080/"
        },
        "outputId": "819799b7-8926-42c4-e27f-3d69a2a95d42"
      },
      "source": [
        "#Naive Bayes Algorithm \n",
        "\n",
        "from sklearn.naive_bayes import GaussianNB\n",
        "from sklearn import metrics\n",
        "from sklearn.metrics import classification_report,confusion_matrix\n",
        "import numpy as np\n",
        "from sklearn.metrics import average_precision_score\n",
        "from sklearn.metrics import roc_auc_score\n",
        "\n",
        "def func4(X_train,X_test,y_train,y_test):\n",
        "      model=GaussianNB()\n",
        "      model.fit(X_train,y_train)\n",
        "      y_pre_4=model.predict(X_test)\n",
        "      print(\"Naive Bayes Algorithm \")\n",
        "      print(\"Accuracy :\",metrics.accuracy_score(y_test,y_pre_4))\n",
        "      rmse=np.sqrt(mean_squared_error(y_test,y_pre_4))\n",
        "      print(\"RMSE Value :%f\"%(rmse))\n",
        "      print(\"Confusion Matrix :\",confusion_matrix(y_test,y_pre_4))\n",
        "      print(\"ROC And AUC :\",roc_auc_score(y_test,y_pre_4))\n",
        "      print(\"Precision Value :\",average_precision_score(y_test,y_pre_4))\n",
        "      X_train,X_test,y_train,y_test=train_test_split(X,y,test_size=0.30)\n",
        "\n",
        "data_2_pre[\"work_type\"].unique()\n",
        "func4(X_train,X_test,y_train,y_test)\n",
        "      "
      ],
      "execution_count": null,
      "outputs": [
        {
          "output_type": "stream",
          "name": "stdout",
          "text": [
            "Naive Bayes Algorithm \n",
            "Accuracy : 0.8333333333333334\n",
            "RMSE Value :0.408248\n",
            "Confusion Matrix : [[116  16]\n",
            " [  8   4]]\n",
            "ROC And AUC : 0.6060606060606061\n",
            "Precision Value : 0.12222222222222223\n"
          ]
        }
      ]
    },
    {
      "cell_type": "code",
      "metadata": {
        "colab": {
          "base_uri": "https://localhost:8080/",
          "height": 1000
        },
        "id": "nscRkxoND8CX",
        "outputId": "04c8864a-f3e7-45ff-d34c-5912cb3158fc"
      },
      "source": [
        "\n",
        "#Pre-Processing Technique-1 \n",
        "\n",
        "data_2_pre=data_1\n",
        "\n",
        "#First and foremost thing is to find about the Missing Values\n",
        "\n",
        "print(data_2_pre.isna().sum())\n",
        "\n",
        "#We are having missing values only in the bmi Columns so, we need to handle them \n",
        "\n",
        "print(data_2_pre[\"bmi\"])\n",
        "\n",
        "#bmi Column is a Float Data Type \n",
        "\n",
        "#Dropping the Missing Values \n",
        "\n",
        "data_2_pre=data_2_pre.dropna()\n",
        "\n",
        "#Missing values are dropped to check the Missing value are present are not \n",
        "\n",
        "print(data_2_pre[\"bmi\"].isna().sum())\n",
        "\n",
        "#Applying One-Hot Encoding on gender Column\n",
        "\n",
        "data_2_pre=pd.get_dummies(columns=[\"gender\"],data=data_2_pre)\n",
        "\n",
        "#Checking whether it has done (or) not\n",
        "\n",
        "#data_2_pre.head()\n",
        "import seaborn as sns \n",
        "import matplotlib.pyplot as plt\n",
        "from scipy import stats\n",
        "import numpy as np\n",
        " \n",
        "#Outliers for avg_glucose_level column\n",
        "\n",
        "data_2_pre[\"avg_glucose_level\"]=np.abs(stats.zscore(data_2_pre[\"avg_glucose_level\"]))\n",
        "\n",
        "#Checking \n",
        "print(data_2_pre[\"avg_glucose_level\"])\n",
        "\n",
        "sns.boxplot(x=data_2_pre[\"avg_glucose_level\"])\n",
        "\n",
        "#Dropping the outliers in av_glucose_level\n",
        "\n",
        "data_2_pre=data_2_pre[data_2_pre[\"avg_glucose_level\"]>=1.9]\n",
        "\n",
        "#After removing the outliers in avg_glucose_level column\n",
        "\n",
        "sns.boxplot(x=data_2_pre[\"avg_glucose_level\"])\n",
        "\n",
        "\n",
        "from sklearn.model_selection import train_test_split\n",
        "\n",
        "X=data_2_pre.drop(columns=[\"id\",\"stroke\"])\n",
        "y=data_2_pre[\"stroke\"]\n",
        "\n",
        "X_train,X_test,y_train,y_test=train_test_split(X,y,test_size=0.30)\n",
        "\n",
        "data_2_pre[\"work_type\"].unique()\n",
        "func1(X_train,X_test,y_train,y_test)\n",
        "func2(X_train,X_test,y_train,y_test)\n",
        "func3(X_train,X_test,y_train,y_test)\n",
        "func4(X_train,X_test,y_train,y_test)"
      ],
      "execution_count": null,
      "outputs": [
        {
          "output_type": "stream",
          "name": "stdout",
          "text": [
            "id                     0\n",
            "gender                 0\n",
            "age                    0\n",
            "hypertension           0\n",
            "heart_disease          0\n",
            "ever_married           0\n",
            "work_type              0\n",
            "Residence_type         0\n",
            "avg_glucose_level      0\n",
            "bmi                  201\n",
            "smoking_status         0\n",
            "stroke                 0\n",
            "dtype: int64\n",
            "0       36.6\n",
            "1        NaN\n",
            "2       32.5\n",
            "3       34.4\n",
            "4       24.0\n",
            "        ... \n",
            "5105     NaN\n",
            "5106    40.0\n",
            "5107    30.6\n",
            "5108    25.6\n",
            "5109    26.2\n",
            "Name: bmi, Length: 5110, dtype: float64\n",
            "0\n",
            "0       2.777698\n",
            "2       0.013842\n",
            "3       1.484132\n",
            "4       1.549193\n",
            "5       1.821368\n",
            "          ...   \n",
            "5104    0.050094\n",
            "5106    0.447882\n",
            "5107    0.502369\n",
            "5108    1.372920\n",
            "5109    0.450816\n",
            "Name: avg_glucose_level, Length: 4909, dtype: float64\n",
            "Decision Tree Algorithm \n",
            "Accuracy : 0.7222222222222222\n",
            "RMSE Value :0.527046\n",
            "Confusion Matrix : [[102  18]\n",
            " [ 22   2]]\n",
            "ROC And AUC : 0.4666666666666666\n",
            "Precision Score : 0.1611111111111111\n",
            "RandomForest Algorithm \n",
            "Accuracy : 0.8402777777777778\n",
            "RMSE Value :0.399653\n",
            "Confusion Matrix : [[120   0]\n",
            " [ 23   1]]\n",
            "ROC And AUC : 0.5208333333333334\n",
            "Precision Score: 0.20138888888888887\n",
            "KNN Algorithm \n",
            "Accuracy :               precision    recall  f1-score   support\n",
            "\n",
            "           0       0.83      1.00      0.91       120\n",
            "           1       0.00      0.00      0.00        24\n",
            "\n",
            "    accuracy                           0.83       144\n",
            "   macro avg       0.42      0.50      0.45       144\n",
            "weighted avg       0.69      0.83      0.76       144\n",
            "\n",
            "RMSE Value :0.408248\n",
            "Accuracy in percent : 0.8333333333333334\n",
            "Confusion Matrix  [[120   0]\n",
            " [ 24   0]]\n",
            "Naive Bayes Algorithm \n",
            "Accuracy : 0.7083333333333334\n",
            "RMSE Value :0.540062\n",
            "Confusion Matrix : [[96 24]\n",
            " [18  6]]\n",
            "ROC And AUC : 0.525\n",
            "Precision Value : 0.175\n"
          ]
        },
        {
          "output_type": "stream",
          "name": "stderr",
          "text": [
            "/usr/local/lib/python3.7/dist-packages/sklearn/metrics/_classification.py:1308: UndefinedMetricWarning: Precision and F-score are ill-defined and being set to 0.0 in labels with no predicted samples. Use `zero_division` parameter to control this behavior.\n",
            "  _warn_prf(average, modifier, msg_start, len(result))\n",
            "/usr/local/lib/python3.7/dist-packages/sklearn/metrics/_classification.py:1308: UndefinedMetricWarning: Precision and F-score are ill-defined and being set to 0.0 in labels with no predicted samples. Use `zero_division` parameter to control this behavior.\n",
            "  _warn_prf(average, modifier, msg_start, len(result))\n",
            "/usr/local/lib/python3.7/dist-packages/sklearn/metrics/_classification.py:1308: UndefinedMetricWarning: Precision and F-score are ill-defined and being set to 0.0 in labels with no predicted samples. Use `zero_division` parameter to control this behavior.\n",
            "  _warn_prf(average, modifier, msg_start, len(result))\n"
          ]
        },
        {
          "output_type": "display_data",
          "data": {
            "image/png": "[encoded data removed]",
            "text/plain": [
              "<Figure size 432x288 with 1 Axes>"
            ]
          },
          "metadata": {
            "needs_background": "light"
          }
        }
      ]
    }
  ]
}